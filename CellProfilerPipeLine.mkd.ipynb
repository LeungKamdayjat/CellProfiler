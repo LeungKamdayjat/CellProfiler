{
 "cells": [
  {
   "cell_type": "markdown",
   "metadata": {},
   "source": [
    "# Cell Profiler Pipeline Markdown\n",
    "### Jindayi Liang\n"
   ]
  },
  {
   "cell_type": "markdown",
   "metadata": {},
   "source": [
    "## Step One\n",
    "#### Select pipeline, input folder and models\n",
    "Select the folder, usually three parameter: **cp_pipeline** is the name of pipeline, the location of pipeline should be the same as this code. **cp_mudole** is the name of the trained model set of CellPose. **cp_mudole_dic** is the location of the model. the syntax should be similar to input directory, either <code style=\"background:grey;color:white\">Default input Folder</code> or <code style=\"background:grey;color:white\">Default Input Folder sub-folder</code> followed by subfolder of your module. "
   ]
  },
  {
   "cell_type": "code",
   "execution_count": null,
   "metadata": {},
   "outputs": [],
   "source": [
    "\n",
    "cp_pipline = \"CS_0809.no.cp.v1.cppipe\"\n",
    "cp_mudole = \"CP_testJIL_epoch500\"\n",
    "cp_mudole_dic = \"Default Input Folder sub-folder|OneDrive - Johns Hopkins\\\\Cai_Lab\\\\16_CellProfilerPipeline\\\\230703-09_czi\""
   ]
  },
  {
   "cell_type": "markdown",
   "metadata": {},
   "source": [
    "#### Select Input Files\n",
    "\n",
    "Iput files should be located in <a>raw</a> folder in local path. Within raw folder, there should be the czi images. \n",
    "\n",
    "Run print(file_list) can show you the files in the folder. "
   ]
  },
  {
   "cell_type": "code",
   "execution_count": null,
   "metadata": {},
   "outputs": [],
   "source": [
    "\n",
    "from pathlib import Path\n",
    "mydir = Path(\"raw/\")\n",
    "file_list = []\n",
    "for file in mydir.iterdir():\n",
    "    if file.suffix == '.czi':\n",
    "        file_list.append(str(file)) \n",
    "#file_list"
   ]
  },
  {
   "cell_type": "markdown",
   "metadata": {},
   "source": [
    "#### Split CZI files\n",
    "\n",
    "<code style=\"background:grey;color:white\">.czi</code> files are divided into tif files and store them in the <code style=\"background:grey;color:white\">image folder</code>. The following chuck requires **aicsimageio** module in your python interpretor. Run this under <code style=\"background:grey;color:white\">ImageAnalysis environment</code>. \n",
    "\n",
    "The loop are repeated based on number of positions (scenes), time stamps, and channels. Each loops would feed out a tif image with suffix at the end. If a image is at Scene3, Time2, channel2, then the suffix will be <code style=\"background:grey;color:white\">S003.T002.C002</code>. \n",
    "\n",
    "You can customize your naming to meet the cellprofiler pipeline requirement. \n",
    "\n",
    "For example, \n",
    "If you have various three channel images and two channel images, you can change your naming in the loop: For images with 2 channels, name your images into C1C2; for images with 3 channels, name your images into C0C1C2. Eventually your pipeline can only look at blue channel and green channel."
   ]
  },
  {
   "cell_type": "code",
   "execution_count": null,
   "metadata": {},
   "outputs": [],
   "source": [
    "# convert czi to tiff\n",
    "import os\n",
    "from aicsimageio import AICSImage\n",
    "from aicsimageio.writers import OmeTiffWriter\n",
    "from pathlib import Path\n",
    "if not os.path.exists('images'):\n",
    "    os.makedirs('images')\n",
    "for img in file_list: \n",
    "    filename = Path(img).stem\n",
    "    img2 = AICSImage(img) # Open an czi image in file_list\n",
    "    img_channels = img2.dims.C\n",
    "    img_scenes = len(img2.scenes)\n",
    "    img_time = img2.dims.T\n",
    "\n",
    "    for S in range(img_scenes): #loop through scene by scene (aka positions)\n",
    "        for T in range(img_time): #loop through time by time\n",
    "            for C in range(img_channels):\n",
    "                img2.set_scene(S)\n",
    "                print(S,T,C)\n",
    "                single_img_data = img2.get_image_data('ZYX',S=S,T=T,C=C)\n",
    "                pos_scene = img2.current_scene\n",
    "                #one channel image\n",
    "                if img_channels == 1:\n",
    "                    file_name = f'{filename}_{os.path.splitext(img)[1]}.S{S+1:03d}.T{T+1:03d}.{pos_scene}.ome.tif'\n",
    "                    OmeTiffWriter.save (single_img_data,f'./images/{file_name}')\n",
    "                #for two channel image, split C1C2\n",
    "                #for three channel image, split C0C1C2\n",
    "                if img_channels == 2:\n",
    "                    file_name = f'{filename}_{os.path.splitext(img)[1]}.S{S+1:03d}.T{T+1:03d}.C{C+1:03d}.ome.tif'\n",
    "                    OmeTiffWriter.save(single_img_data,f'./images/{file_name}')\n",
    "                elif img_channels == 3:\n",
    "                    file_name = f'{filename}_{os.path.splitext(img)[1]}.S{S:03d}.T{T:03d}.C{C:03d}.ome.tif'\n",
    "                    OmeTiffWriter.save(single_img_data,f'./images/{file_name}')"
   ]
  },
  {
   "cell_type": "markdown",
   "metadata": {},
   "source": [
    "## Step Two\n",
    "\n",
    "Open CellProfiler in headless mode, started java environment, import example data and images, set empty object set, set empty measurement, load pipeline"
   ]
  },
  {
   "cell_type": "code",
   "execution_count": null,
   "metadata": {},
   "outputs": [],
   "source": [
    "import cellprofiler_core.pipeline\n",
    "import cellprofiler_core.preferences\n",
    "import cellprofiler_core.utilities.java\n",
    "import pathlib\n",
    "cellprofiler_core.preferences.set_headless()\n",
    "cellprofiler_core.utilities.java.start_java()\n",
    "image_set_list = cellprofiler_core.image.ImageSetList()\n",
    "image_set = image_set_list.get_image_set(0)\n",
    "import skimage.data\n",
    "x = skimage.data.camera()\n",
    "image_x = cellprofiler_core.image.Image(x)\n",
    "image_set.add(\"x\", image_x)\n",
    "skimage.io.imshow(image_set.get_image(\"x\").pixel_data)\n",
    "object_set = cellprofiler_core.object.ObjectSet()\n",
    "objects  = cellprofiler_core.object.Objects()\n",
    "object_set.add_objects(objects, \"example\")\n",
    "measurements = cellprofiler_core.measurement.Measurements()\n",
    "pipeline = cellprofiler_core.pipeline.Pipeline()\n",
    "pipeline.load(cp_pipline)\n",
    "pipeline.modules()"
   ]
  },
  {
   "cell_type": "code",
   "execution_count": null,
   "metadata": {},
   "outputs": [],
   "source": [
    "import cellprofiler.modules.runcellpose\n",
    "module = cellprofiler.modules.runcellpose.RunCellpose()\n",
    "#determine where you put the module\n",
    "module.module_num = 9\n",
    "pipeline.add_module(module)\n",
    "# pipeline.modules()[7] = pipeline.modules()[8]\n",
    "pipeline.modules()"
   ]
  },
  {
   "cell_type": "code",
   "execution_count": null,
   "metadata": {},
   "outputs": [],
   "source": [
    "\n",
    "pipeline.modules()[8].setting(1).set_value(\"cells\")\n",
    "pipeline.modules()[8].setting(2).set_value(\"200\")\n",
    "pipeline.modules()[8].setting(3).set_value(\"custom\")\n",
    "pipeline.modules()[8].setting(4).set_value(\"CellposeCell\")\n",
    "pipeline.modules()[8].setting(5).set_value(\"Yes\")\n",
    "pipeline.modules()[8].setting(6).set_value(\"Yes\")\n",
    "pipeline.modules()[8].setting(11).set_value(cp_mudole_dic)\n",
    "pipeline.modules()[8].setting(12).set_value(cp_mudole)\n",
    "pipeline.modules()[8].setting(21).set_value(\"No\")\n",
    "[print(setting.to_dict()) for setting in pipeline.modules()[8].settings()]\n",
    "\n",
    "\n",
    "\n"
   ]
  },
  {
   "cell_type": "code",
   "execution_count": null,
   "metadata": {},
   "outputs": [],
   "source": [
    "[print(setting.to_dict()) for setting in pipeline.modules()[5].settings()]"
   ]
  },
  {
   "cell_type": "code",
   "execution_count": null,
   "metadata": {},
   "outputs": [],
   "source": [
    "import os\n",
    "folder_name = 'output'\n",
    "if not os.path.isdir(folder_name):\n",
    "    os.makedirs(folder_name)\n",
    "current_dir = pathlib.Path().absolute()\n",
    "cellprofiler_core.preferences.set_default_output_directory(f\"output\")\n",
    "file_list = list(pathlib.Path('.').absolute().glob('images\\\\*.TIF'))\n",
    "# print(file_list)\n",
    "files = [file.as_uri() for file in file_list]\n",
    "pipeline.read_file_list(files)\n",
    "output_measurements = pipeline.run()"
   ]
  },
  {
   "cell_type": "code",
   "execution_count": null,
   "metadata": {},
   "outputs": [],
   "source": [
    "output_measurements.get_measurement_columns()"
   ]
  },
  {
   "cell_type": "code",
   "execution_count": null,
   "metadata": {},
   "outputs": [],
   "source": []
  },
  {
   "cell_type": "code",
   "execution_count": null,
   "metadata": {},
   "outputs": [],
   "source": [
    "\n",
    "output_measurements.get_measurement('CellposeCell', 'Children_IdentifyPrimaryObjects_Count')"
   ]
  }
 ],
 "metadata": {
  "kernelspec": {
   "display_name": "base",
   "language": "python",
   "name": "python3"
  },
  "language_info": {
   "codemirror_mode": {
    "name": "ipython",
    "version": 3
   },
   "file_extension": ".py",
   "mimetype": "text/x-python",
   "name": "python",
   "nbconvert_exporter": "python",
   "pygments_lexer": "ipython3",
   "version": "3.8.8rc1"
  },
  "orig_nbformat": 4
 },
 "nbformat": 4,
 "nbformat_minor": 2
}
